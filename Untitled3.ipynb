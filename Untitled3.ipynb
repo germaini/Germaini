{
  "nbformat": 4,
  "nbformat_minor": 0,
  "metadata": {
    "colab": {
      "provenance": [],
      "authorship_tag": "ABX9TyPQmkXWMW6oT4veY3Y3m+JV",
      "include_colab_link": true
    },
    "kernelspec": {
      "name": "python3",
      "display_name": "Python 3"
    },
    "language_info": {
      "name": "python"
    }
  },
  "cells": [
    {
      "cell_type": "markdown",
      "metadata": {
        "id": "view-in-github",
        "colab_type": "text"
      },
      "source": [
        "<a href=\"https://colab.research.google.com/github/germaini/Germaini/blob/main/Untitled3.ipynb\" target=\"_parent\"><img src=\"https://colab.research.google.com/assets/colab-badge.svg\" alt=\"Open In Colab\"/></a>"
      ]
    },
    {
      "cell_type": "code",
      "source": [
        "# 1 - Crea un programa que solicite al usuario que escriba su nombre y luego imprima \"Hola, [nombre].\"\n",
        "nombre = input('Dame tú nombre')\n",
        "print(f'Hola \"{nombre}\"')"
      ],
      "metadata": {
        "colab": {
          "base_uri": "https://localhost:8080/"
        },
        "id": "e8ziP9ZbBmvN",
        "outputId": "6331a97e-64ab-43d0-8545-6cf040e0d3c0"
      },
      "execution_count": 3,
      "outputs": [
        {
          "output_type": "stream",
          "name": "stdout",
          "text": [
            "Dame tú nombregerman\n",
            "Hola \"german\"\n"
          ]
        }
      ]
    },
    {
      "cell_type": "code",
      "source": [
        "#2 - Crea un programa que solicite al usuario que escriba su nombre y edad, y luego imprima \"Hola, [nombre], tienes [edad] años.\"\n",
        "nombre = input('Dame tú nombre')\n",
        "edad = input('Dame tú edad')\n",
        "print(f'\"hola, {nombre}, tienes {edad} años.\"')"
      ],
      "metadata": {
        "colab": {
          "base_uri": "https://localhost:8080/"
        },
        "id": "6Fc1JlCCBuSt",
        "outputId": "c3a4a413-f3c1-46b5-a61c-481bd37f267b"
      },
      "execution_count": 3,
      "outputs": [
        {
          "output_type": "stream",
          "name": "stdout",
          "text": [
            "Dame tú nombregerman\n",
            "Dame tú edad40\n",
            "\"hola, german, tienes 40 años.\"\n"
          ]
        }
      ]
    },
    {
      "cell_type": "code",
      "source": [
        "#3 - Crea un programa que solicite al usuario que escriba su nombre, edad y altura en metros,\n",
        "#  y luego imprima \"Hola, [nombre], tienes [edad] años y mides [altura] metros.\"\n",
        "nombre = input('Dame tú nombre')\n",
        "edad = input('Dame tú edad')\n",
        "estatura = input('Dame tú estatura')\n",
        "print(f'\"hola, {nombre}, tienes {edad} años y mides {estatura} metros.\"')"
      ],
      "metadata": {
        "colab": {
          "base_uri": "https://localhost:8080/"
        },
        "id": "YNuBTCtWB4th",
        "outputId": "504dbc39-ced7-4434-b02e-1e2790572d04"
      },
      "execution_count": 2,
      "outputs": [
        {
          "output_type": "stream",
          "name": "stdout",
          "text": [
            "Dame tú nombre40\n",
            "Dame tú edad65\n",
            "Dame tú estatura1.65\n",
            "\"hola, 40, tienes 65 años y mides 1.65 metros.\"\n"
          ]
        }
      ]
    },
    {
      "cell_type": "code",
      "source": [
        "# 4 - Crea un programa que solicite dos valores numéricos al usuario y luego imprima la suma de ambos valores.\n",
        "n1 = input('Dame un primer número: ')\n",
        "n2 = input('Dame un segundo número: ')\n",
        "print(f'la suma de {n1} y {n2} es {int(n1)+int(n2)}')"
      ],
      "metadata": {
        "colab": {
          "base_uri": "https://localhost:8080/"
        },
        "id": "tZrEx-U_GGNt",
        "outputId": "5acad7bd-eca8-4d7b-fc0c-1fc2474cd181"
      },
      "execution_count": 1,
      "outputs": [
        {
          "output_type": "stream",
          "name": "stdout",
          "text": [
            "Dame un primer número: 65\n",
            "Dame un segundo número: 45\n",
            "la suma de 65 y 45 es 110\n"
          ]
        }
      ]
    },
    {
      "cell_type": "code",
      "source": [
        "#5 - Crea un programa que solicite tres valores numéricos al usuario y luego imprima la suma de los tres valores.\n",
        "n1 = input('Dame un primer número: ')\n",
        "n2 = input('Dame un segundo número: ')\n",
        "n3 = input('Dame un tercer número: ')\n",
        "print(f'la suma de {n1}, {n2} y {n3} es {int(n1)+int(n2)+int(n3)}')"
      ],
      "metadata": {
        "colab": {
          "base_uri": "https://localhost:8080/"
        },
        "id": "_R7nW2ivCCOf",
        "outputId": "af70e263-5b02-456a-c39b-981209bf9ac5"
      },
      "execution_count": 24,
      "outputs": [
        {
          "output_type": "stream",
          "name": "stdout",
          "text": [
            "Dame un primer número: 15\n",
            "Dame un segundo número: 65\n",
            "Dame un tercer número: 95\n",
            "la suma de 15, 65 y 95 es 175\n"
          ]
        }
      ]
    },
    {
      "cell_type": "code",
      "source": [
        "# 6 - Crea un programa que solicite dos valores numéricos al usuario y luego imprima la suma de ambos valores.\n",
        "n1 = input('Dame un primer número: ')\n",
        "n2 = input('Dame un segundo número: ')\n",
        "print(f'la resta de {n1} y {n2} es {int(n1) - int(n2)}')"
      ],
      "metadata": {
        "colab": {
          "base_uri": "https://localhost:8080/"
        },
        "id": "Jd6GilBdCGoF",
        "outputId": "196cb828-d9b2-4833-b52c-ffd2e5063767"
      },
      "execution_count": 23,
      "outputs": [
        {
          "output_type": "stream",
          "name": "stdout",
          "text": [
            "Dame un primer número: 42\n",
            "Dame un segundo número: 65\n",
            "la resta de 42 y 65 es -23\n"
          ]
        }
      ]
    },
    {
      "cell_type": "code",
      "source": [
        "# 7 - Crea un programa que solicite dos valores numéricos al usuario y luego imprima la multiplicación de los dos valores.\n",
        "\n",
        "n1 = input('Dame un primer número: ')\n",
        "n2 = input('Dame un segundo número: ')\n",
        "print(f'la multiplicacion de {n1} y {n2} es {int(n1) * int(n2)}')"
      ],
      "metadata": {
        "colab": {
          "base_uri": "https://localhost:8080/"
        },
        "id": "fEoQMiOxCKJm",
        "outputId": "b4c11359-0869-4c63-86fd-056fdcc1dc07"
      },
      "execution_count": 22,
      "outputs": [
        {
          "output_type": "stream",
          "name": "stdout",
          "text": [
            "Dame un primer número: 9\n",
            "Dame un segundo número: 4\n",
            "la multiplicacion de 9 y 4 es 36\n"
          ]
        }
      ]
    },
    {
      "cell_type": "code",
      "source": [
        "#8 - Crea un programa que solicite dos valores numéricos, un numerador y un denominador, y\n",
        "#realice la división entre los dos valores. Asegúrate de que el valor del denominador no sea igual a 0.\n",
        "\n",
        "numerador = float(input(\"Ingrese el numerador: \"))\n",
        "denominador = float(input(\"Ingrese el denominador: \"))\n",
        "\n",
        "\n",
        "if denominador != 0:\n",
        "    resultado = numerador / denominador\n",
        "    print(\"El resultado de la división es:\", resultado)\n",
        "else:\n",
        "    print('No puedes usar el denominador  0')"
      ],
      "metadata": {
        "colab": {
          "base_uri": "https://localhost:8080/"
        },
        "id": "A8jc7fZXCPO2",
        "outputId": "e7caca72-84da-4925-8efb-fd46c255bcfc"
      },
      "execution_count": 21,
      "outputs": [
        {
          "output_type": "stream",
          "name": "stdout",
          "text": [
            "Ingrese el numerador: 78\n",
            "Ingrese el denominador: 12\n",
            "El resultado de la división es: 6.5\n"
          ]
        }
      ]
    },
    {
      "cell_type": "code",
      "source": [
        "# 9 - Crea un programa que solicite dos valores numéricos, un operador y una potencia,\n",
        "# y realice la exponenciación entre estos dos valores.\n",
        "base = float(input(\"Ingresa el primer número (base): \"))\n",
        "exponente = float(input(\"Ingresa el segundo número (exponente): \"))\n",
        "resultado = base ** exponente\n",
        "print(f'El resultado de {base} ** {exponente} es: {resultado}')"
      ],
      "metadata": {
        "colab": {
          "base_uri": "https://localhost:8080/"
        },
        "id": "JBbES6EZCSOy",
        "outputId": "773e7e48-d018-4e90-b004-f2d647e727b3"
      },
      "execution_count": 20,
      "outputs": [
        {
          "output_type": "stream",
          "name": "stdout",
          "text": [
            "Ingresa el primer número (base): 25\n",
            "Ingresa el segundo número (exponente): 5\n",
            "El resultado de 25.0 ** 5.0 es: 9765625.0\n"
          ]
        }
      ]
    },
    {
      "cell_type": "code",
      "source": [
        "#10 - Crea un programa que solicite dos valores numéricos, un numerador y un denominador, y realice la\n",
        "# división entera entre los dos valores. Asegúrate de que el valor del denominador no sea igual a 0.\n",
        "numerador = int(input(\"Ingrese el numerador: \"))\n",
        "denominador = int(input(\"Ingrese el denominador: \"))\n",
        "\n",
        "if denominador != 0:\n",
        "    resultado = numerador // denominador\n",
        "    print(\"El resultado de la división entera es:\", resultado)\n",
        "else:\n",
        "    print('No puedes usar el denominador  0')"
      ],
      "metadata": {
        "colab": {
          "base_uri": "https://localhost:8080/"
        },
        "id": "cyfc4mlsFRyf",
        "outputId": "ba0e6028-2dfb-4ab5-bd9b-1a48e758b0a7"
      },
      "execution_count": 19,
      "outputs": [
        {
          "output_type": "stream",
          "name": "stdout",
          "text": [
            "Ingrese el numerador: 12\n",
            "Ingrese el denominador: 63\n",
            "El resultado de la división entera es: 0\n"
          ]
        }
      ]
    },
    {
      "cell_type": "code",
      "source": [
        "#11 - Crea un programa que solicite dos valores numéricos, un numerador y un denominador,\n",
        "# y devuelva el resto de la división entre los dos valores. Asegúrate de que el valor del denominador no sea igual a 0.\n",
        "numerador = int(input(\"Ingrese el numerador: \"))\n",
        "denominador = int(input(\"Ingrese el denominador: \"))\n",
        "\n",
        "if denominador != 0:\n",
        "    resultado = numerador % denominador\n",
        "    print(\"El resto de la división es:\", resultado)\n",
        "else:\n",
        "    print('No puedes usar el denominador  0')"
      ],
      "metadata": {
        "colab": {
          "base_uri": "https://localhost:8080/"
        },
        "id": "QoV8GWagCfDJ",
        "outputId": "0f15f118-ec6e-48bb-cb54-7c0a82994b83"
      },
      "execution_count": 17,
      "outputs": [
        {
          "output_type": "stream",
          "name": "stdout",
          "text": [
            "Ingrese el numerador: 65\n",
            "Ingrese el denominador: 12\n",
            "El resto de la división es: 5\n"
          ]
        }
      ]
    },
    {
      "cell_type": "code",
      "source": [
        "# 12 - Crea un código que solicite las 3 notas de un estudiante e imprima el promedio de las notas.\n",
        "\n",
        "calif1 = float(input(\"Ingrese primer calificacion: \"))\n",
        "calif2 = float(input(\"Ingrese segunda calificacion: \"))\n",
        "calif3 = float(input(\"Ingrese tercera calificacion: \"))\n",
        "promedio = ((calif1 + calif2 + calif3)/3)\n",
        "print(f'El promedio de las calificaciones es: {promedio:.2f}')"
      ],
      "metadata": {
        "colab": {
          "base_uri": "https://localhost:8080/"
        },
        "id": "Mw4UG2iOColj",
        "outputId": "fcaa3bff-b4a1-40b5-fd4f-96b269f6581b"
      },
      "execution_count": 16,
      "outputs": [
        {
          "output_type": "stream",
          "name": "stdout",
          "text": [
            "Ingrese primer calificacion: 8.5\n",
            "Ingrese segunda calificacion: 7.2\n",
            "Ingrese tercera calificacion: 6.5\n",
            "El promedio de las calificaciones es: 7.40\n"
          ]
        }
      ]
    },
    {
      "cell_type": "code",
      "source": [
        "#13 - Crea un código que calcule e imprima el promedio ponderado de los números\n",
        "# 5, 12, 20 y 15 con pesos respectivamente iguales a 1, 2, 3 y 4.\n",
        "print(\"***calculo e impresion del promedio ponderado de los números 5, 12, 20 y 15 con pesos respectivamente iguales a 1, 2, 3 y 4.***\")\n",
        "n1 = 5\n",
        "n2 = 12\n",
        "n3 = 20\n",
        "n4 = 15\n",
        "peso1 = 1\n",
        "peso2 = 2\n",
        "peso3 = 3\n",
        "peso4 = 4\n",
        "suma_pesos = peso1+peso2+peso3+peso4\n",
        "suma_ponderada = (n1*peso1+2*peso2+3*peso3+n4*peso4)\n",
        "promedio_ponderado = suma_ponderada/suma_pesos\n",
        "print(f\"\\nel promedio ponderado de los numeros {n1,n2,n3,n4} es : {promedio_ponderado:.2f}\",)\n",
        "\n",
        "## codigo de IA\n",
        "# Valores y sus respectivos pesos\n",
        "valores = [5, 12, 20, 15]\n",
        "pesos = [1, 2, 3, 4]\n",
        "\n",
        "# Cálculo del promedio ponderado\n",
        "suma_ponderada = sum(valor * peso for valor, peso in zip(valores, pesos))\n",
        "suma_pesos = sum(pesos)\n",
        "promedio_ponderado = suma_ponderada / suma_pesos\n",
        "\n",
        "# Imprimir resultado\n",
        "print(f'El promedio ponderado es: {promedio_ponderado}')"
      ],
      "metadata": {
        "colab": {
          "base_uri": "https://localhost:8080/"
        },
        "id": "2d1jgBNXCuq_",
        "outputId": "85c52f4c-20c4-461b-c463-aa1d2db83568"
      },
      "execution_count": 15,
      "outputs": [
        {
          "output_type": "stream",
          "name": "stdout",
          "text": [
            "***calculo e impresion del promedio ponderado de los números 5, 12, 20 y 15 con pesos respectivamente iguales a 1, 2, 3 y 4.***\n",
            "\n",
            "el promedio ponderado de los numeros (5, 12, 20, 15) es : 7.80\n",
            "El promedio ponderado es: 14.9\n"
          ]
        }
      ]
    },
    {
      "cell_type": "code",
      "source": [
        "# 14 - Crea una variable llamada \"frase\" y asígnale una cadena de texto de tu elección.\n",
        "# Luego, imprime la frase en pantalla.\n",
        "frase = \"Carpe diem: Aprovecha el día, el momento\"\n",
        "print(frase)"
      ],
      "metadata": {
        "colab": {
          "base_uri": "https://localhost:8080/"
        },
        "id": "9Y9K4Sg1C10C",
        "outputId": "129f4a34-068c-4d5c-dc2e-03f4232c1fb4"
      },
      "execution_count": 14,
      "outputs": [
        {
          "output_type": "stream",
          "name": "stdout",
          "text": [
            "Carpe diem: Aprovecha el día, el momento\n"
          ]
        }
      ]
    },
    {
      "cell_type": "code",
      "source": [
        "# 15 - Crea un código que solicite una frase y luego imprima la frase en pantalla.\n",
        "frase = input(\"Ingresa una frase: \")\n",
        "print(frase)"
      ],
      "metadata": {
        "colab": {
          "base_uri": "https://localhost:8080/"
        },
        "id": "_kMb1zTaC6cQ",
        "outputId": "9b041a78-7c30-4634-95d4-2f786ef6c6ae"
      },
      "execution_count": 13,
      "outputs": [
        {
          "output_type": "stream",
          "name": "stdout",
          "text": [
            "Ingresa una frase: el universo es un misterio\n",
            "el universo es un misterio\n"
          ]
        }
      ]
    },
    {
      "cell_type": "code",
      "source": [
        "# 16 - Crea un código que solicite una frase al usuario y luego imprima la misma frase ingresada pero en mayúsculas.\n",
        "frase = input(\"Ingresa una frase: \")\n",
        "frase_mayuscula = frase.upper()\n",
        "print(frase_mayuscula)"
      ],
      "metadata": {
        "colab": {
          "base_uri": "https://localhost:8080/"
        },
        "id": "L0wqoFK-C9GR",
        "outputId": "00e533fd-8672-4e6b-98bc-d3dd45df5cc5"
      },
      "execution_count": 12,
      "outputs": [
        {
          "output_type": "stream",
          "name": "stdout",
          "text": [
            "Ingresa una frase: tercera ley de newton\n",
            "TERCERA LEY DE NEWTON\n"
          ]
        }
      ]
    },
    {
      "cell_type": "code",
      "source": [
        "# 17 - Crea un código que solicite una frase al usuario y luego imprima la misma frase ingresada pero en minúsculas.\n",
        "frase = input(\"Ingresa una frase: \")\n",
        "frase_minuscula = frase.lower()\n",
        "print(frase_minuscula)"
      ],
      "metadata": {
        "colab": {
          "base_uri": "https://localhost:8080/"
        },
        "id": "h1taHzlBDDTR",
        "outputId": "05c8df96-ca67-4e89-e1b2-27205b7c13c7"
      },
      "execution_count": 11,
      "outputs": [
        {
          "output_type": "stream",
          "name": "stdout",
          "text": [
            "Ingresa una frase: transpariensia del tiempo\n",
            "transpariensia del tiempo\n"
          ]
        }
      ]
    },
    {
      "cell_type": "code",
      "source": [
        "# 18 - Crea una variable llamada \"frase\" y asígnale una cadena de texto de tu elección.\n",
        "# Luego, imprime la frase sin espacios en blanco al principio y al final.\n",
        "frase =\" Cuando la lluvia inunda todo México \"\n",
        "frase_sin_espacios = frase.strip()\n",
        "print(frase_sin_espacios)"
      ],
      "metadata": {
        "colab": {
          "base_uri": "https://localhost:8080/"
        },
        "id": "Gffs62LdDEOa",
        "outputId": "df01df98-b617-4173-fa5a-2f4434f4b63b"
      },
      "execution_count": 10,
      "outputs": [
        {
          "output_type": "stream",
          "name": "stdout",
          "text": [
            "Cuando la lluvia inunda todo México\n"
          ]
        }
      ]
    },
    {
      "cell_type": "code",
      "source": [
        "# 19 - Crea un código que solicite una frase al usuario y luego imprima la misma\n",
        "# frase sin espacios en blanco al principio y al final.\n",
        "frase = input('Dame una frase con espacios en blanco al principio y final: ')\n",
        "frase_sin_espacios = frase.strip()\n",
        "print(frase_sin_espacios)"
      ],
      "metadata": {
        "colab": {
          "base_uri": "https://localhost:8080/"
        },
        "id": "JDp7p4JvD5pn",
        "outputId": "67a2f3bc-ddcb-4b70-d2d1-1a18c68d9e01"
      },
      "execution_count": 8,
      "outputs": [
        {
          "output_type": "stream",
          "name": "stdout",
          "text": [
            "Dame una frase con espacios en blanco al principio y final: blanca como la nieve\n",
            "blanca como la nieve\n"
          ]
        }
      ]
    },
    {
      "cell_type": "code",
      "source": [
        "# 20 - Crea un código que solicite una frase al usuario y luego imprima la misma frase\n",
        "# sin espacios en blanco al principio y al final, además de convertirla a minúsculas.\n",
        "frase = input('Dame una frase con espacios en blanco al principio y final: ')\n",
        "frase_sin_espacios = frase.lower().strip()\n",
        "print(frase_sin_espacios)"
      ],
      "metadata": {
        "colab": {
          "base_uri": "https://localhost:8080/"
        },
        "id": "2A06HlW_DNMZ",
        "outputId": "eb58b0fa-0eb5-47a9-a042-7f5a37e973f3"
      },
      "execution_count": 9,
      "outputs": [
        {
          "output_type": "stream",
          "name": "stdout",
          "text": [
            "Dame una frase con espacios en blanco al principio y final: la fuerza del corazon\n",
            "la fuerza del corazon\n"
          ]
        }
      ]
    },
    {
      "cell_type": "code",
      "source": [
        "# 21 - Crea un código que solicite una frase al usuario y luego imprima la misma frase con todas las vocales \"e\" reemplazadas por la letra \"f\".\n",
        "frase = input(\"Ingresa una frase: \")\n",
        "frase_modificada = frase.replace(\"e\", \"f\")\n",
        "print(frase_modificada)"
      ],
      "metadata": {
        "colab": {
          "base_uri": "https://localhost:8080/"
        },
        "id": "wVh8-G5JDN_o",
        "outputId": "70d7bdf4-045e-4951-bf28-a9bb0e07708a"
      },
      "execution_count": 6,
      "outputs": [
        {
          "output_type": "stream",
          "name": "stdout",
          "text": [
            "Ingresa una frase: la quiero\n",
            "la quifro\n"
          ]
        }
      ]
    },
    {
      "cell_type": "code",
      "source": [
        "# 22 - Crea un código que solicite una frase al usuario y luego imprima la misma frase con todas las\n",
        "# vocales \"a\" reemplazadas por el carácter \"@\".\n",
        "frase = input(\"Ingresa una frase: \")\n",
        "frase_modificada = frase.replace(\"a\", \"@\")\n",
        "print(frase_modificada)"
      ],
      "metadata": {
        "colab": {
          "base_uri": "https://localhost:8080/"
        },
        "id": "bztpfK_uDQnx",
        "outputId": "baf50862-eaac-424e-9ddc-2dda556003b4"
      },
      "execution_count": 5,
      "outputs": [
        {
          "output_type": "stream",
          "name": "stdout",
          "text": [
            "Ingresa una frase: amigo mio\n",
            "@migo mio\n"
          ]
        }
      ]
    },
    {
      "cell_type": "code",
      "source": [
        "# 23 - Crea un código que solicite una frase al usuario y luego imprima la misma\n",
        "# frase con todas las consonantes \"s\" reemplazadas por el carácter \"$\".\n",
        "frase = input(\"Ingresa una frase: \")\n",
        "frase_modificada = frase.replace(\"s\", \"$\")\n",
        "print(frase_modificada)"
      ],
      "metadata": {
        "colab": {
          "base_uri": "https://localhost:8080/"
        },
        "id": "HcQz7YoUDT0B",
        "outputId": "613cf847-cdd1-43d2-9530-008acb97bd6f"
      },
      "execution_count": 4,
      "outputs": [
        {
          "output_type": "stream",
          "name": "stdout",
          "text": [
            "Ingresa una frase: el sapo salto la silla\n",
            "el $apo $alto la $illa\n"
          ]
        }
      ]
    }
  ]
}